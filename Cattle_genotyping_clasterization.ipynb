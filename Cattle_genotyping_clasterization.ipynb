{
  "nbformat": 4,
  "nbformat_minor": 0,
  "metadata": {
    "colab": {
      "provenance": [],
      "authorship_tag": "ABX9TyOtjfe0OCYmfXjuJGt++ZDR",
      "include_colab_link": true
    },
    "kernelspec": {
      "name": "python3",
      "display_name": "Python 3"
    },
    "language_info": {
      "name": "python"
    }
  },
  "cells": [
    {
      "cell_type": "markdown",
      "metadata": {
        "id": "view-in-github",
        "colab_type": "text"
      },
      "source": [
        "<a href=\"https://colab.research.google.com/github/Alimbj/Birds_Classification/blob/main/Cattle_genotyping_clasterization.ipynb\" target=\"_parent\"><img src=\"https://colab.research.google.com/assets/colab-badge.svg\" alt=\"Open In Colab\"/></a>"
      ]
    },
    {
      "cell_type": "markdown",
      "source": [
        "### 1. Анализ генотипических данных КРС"
      ],
      "metadata": {
        "id": "u2ONLUL8H3gS"
      }
    },
    {
      "cell_type": "markdown",
      "source": [
        "Шаг 1. Linux. Преобразование исходных файлов .ped и .map в бинарный формат PLINK\n"
      ],
      "metadata": {
        "id": "LTIX_yFOH9oZ"
      }
    },
    {
      "cell_type": "code",
      "execution_count": null,
      "metadata": {
        "id": "wrWDDjNUH2oh"
      },
      "outputs": [],
      "source": [
        "for dir in 2 3 4 5 6 7; do\n",
        "  do echo \"Processing folder $dir\";\n",
        "  cd $dir\n",
        "  basefile = $(basename $(cattle_*.ped) .ped);\n",
        "  plink --file \"$basefile\" --cow --make-bed --out \"plinkdata_${dir}\"\n",
        "  cd ..\n",
        "done\n"
      ]
    },
    {
      "cell_type": "markdown",
      "source": [
        "Шаг 2. Фильтрация по общим SNP и создание подмножеств"
      ],
      "metadata": {
        "id": "2VzwDJ4SIDyq"
      }
    },
    {
      "cell_type": "code",
      "source": [
        "for i in 2 3 4 5 6 7; do\n",
        "  plink --bfile plinkdata_${i} --cow --extract common_snps.txt --make-bed --out filtered_${i}\n",
        "done\n"
      ],
      "metadata": {
        "id": "FYtsgYiJIIEn"
      },
      "execution_count": null,
      "outputs": []
    },
    {
      "cell_type": "markdown",
      "source": [
        "Шаг 3. Слияние подмножеств"
      ],
      "metadata": {
        "id": "XyYoHKLtIKma"
      }
    },
    {
      "cell_type": "code",
      "source": [
        "cp filtered_2.bed merged.bed\n",
        "cp filtered_2.bim merged.bim\n",
        "cp filtered_2.fam merged.fam\n",
        "\n",
        "\n",
        "# Затем последователно сливать остальные\n",
        "\n",
        "for i in 3 4 5 6 7; do\n",
        "  plink --bfile merged \\\n",
        "        --bmerge filtered_${i}.bed filtered_${i}.bim filtered_${i}.fam \\\n",
        "        --cow \\\n",
        "        --make-bed \\\n",
        "        --out merged_temp\n",
        "\n",
        "  if [ -f merged_temp.bed ]; then\n",
        "    mv merged_temp.bed merged.bed\n",
        "    mv merged_temp.bim merged.bim\n",
        "    mv merged_temp.fam merged.fam\n",
        "  else\n",
        "    echo \"Merge with filtered_${i} failed\"\n",
        "    break\n",
        "  fi\n",
        "done\n"
      ],
      "metadata": {
        "id": "3JTTEZdaIM0z"
      },
      "execution_count": null,
      "outputs": []
    },
    {
      "cell_type": "markdown",
      "source": [
        "Шаг 4. Проведение PCA с помощью PLINK"
      ],
      "metadata": {
        "id": "nZZueumMIVrn"
      }
    },
    {
      "cell_type": "code",
      "source": [
        "plink --bfile merged --pca 10 --out merged_pca\n"
      ],
      "metadata": {
        "id": "cGIKeS9AIYrH"
      },
      "execution_count": null,
      "outputs": []
    },
    {
      "cell_type": "markdown",
      "source": [
        "### 2. Визуализация и кластеризация в Python (Google Colab)"
      ],
      "metadata": {
        "id": "418746VrIa0u"
      }
    },
    {
      "cell_type": "markdown",
      "source": [
        "Шаг 1. Загрузка результатов PCA и метаданных, визуализация PCA"
      ],
      "metadata": {
        "id": "AGGQsMUNIlai"
      }
    },
    {
      "cell_type": "code",
      "source": [
        "import pandas as pd\n",
        "import matplotlib.pyplot as plt\n",
        "import seaborn as sns\n",
        "import umap\n",
        "\n",
        "fam = pd.read_csv(\"merged.fam\", delim_whitespace=True, header=None)\n",
        "fam.columns = [\"FID\", \"IID\", \"FatherID\", \"MotherID\", \"Sex\", \"Phenotype\"]\n",
        "\n",
        "# Загрузить eigenvec файл (пропустим первую колонку с FID и вторую с IID)\n",
        "df = pd.read_csv(\"merged_pca.eigenvec\", delim_whitespace=True, header=None)\n",
        "\n",
        "# Добавим имена колонок\n",
        "df.columns = [\"FID\", \"IID\"] + [f\"PC{i}\" for i in range(1, df.shape[1] - 1)]\n",
        "\n",
        "df = pd.merge(df, fam[[\"FID\", \"IID\"]], on=[\"FID\", \"IID\"], how=\"left\")\n",
        "\n",
        "plt.figure(figsize=(10, 7))\n",
        "sns.scatterplot(data=df, x=\"PC1\", y=\"PC2\", hue=\"FID\", palette=\"coolwarm\", s=60)\n",
        "plt.title(\"PCA of Cattle Genotypes by Breed (FID)\")\n",
        "plt.xlabel(\"PC1\")\n",
        "plt.ylabel(\"PC2\")\n",
        "plt.grid(True)\n",
        "plt.tight_layout()\n",
        "plt.show()"
      ],
      "metadata": {
        "id": "ZcA-D0mlIo9_"
      },
      "execution_count": null,
      "outputs": []
    },
    {
      "cell_type": "code",
      "source": [
        "df2 = pd.read_csv('/content/merged_pca.eigenval')\n",
        "df2"
      ],
      "metadata": {
        "id": "a-t3mK__Ittb"
      },
      "execution_count": null,
      "outputs": []
    },
    {
      "cell_type": "markdown",
      "source": [
        "Шаг 3. Визуализация с UMAP"
      ],
      "metadata": {
        "id": "caDsAau1I8yC"
      }
    },
    {
      "cell_type": "code",
      "source": [
        "# Вытаскиваем только числовые главные компоненты (например, первые 10 PC)\n",
        "X = df[[f\"PC{i}\" for i in range(1, 11)]].values\n",
        "\n",
        "# Запускаем UMAP (можешь настроить n_neighbors и min_dist по желанию)\n",
        "reducer = umap.UMAP(n_neighbors=5, min_dist=0.3, random_state=42)\n",
        "embedding = reducer.fit_transform(X)\n",
        "\n",
        "# Добавляем результаты UMAP в DataFrame\n",
        "df[\"UMAP1\"] = embedding[:, 0]\n",
        "df[\"UMAP2\"] = embedding[:, 1]\n",
        "\n",
        "# Визуализация\n",
        "plt.figure(figsize=(10, 7))\n",
        "sns.scatterplot(data=df, x=\"UMAP1\", y=\"UMAP2\", hue=\"FID\", palette=\"coolwarm\", s=60)\n",
        "plt.title(\"UMAP projection of Cattle Genotypes by Breed (FID)\")\n",
        "plt.xlabel(\"UMAP1\")\n",
        "plt.ylabel(\"UMAP2\")\n",
        "plt.grid(True)\n",
        "plt.tight_layout()\n",
        "plt.show()"
      ],
      "metadata": {
        "id": "WivsbUUZI9fA"
      },
      "execution_count": null,
      "outputs": []
    },
    {
      "cell_type": "markdown",
      "source": [
        "Шаг 4. Кластеризация и визуализация t-SNE"
      ],
      "metadata": {
        "id": "odjnHDTfIwvG"
      }
    },
    {
      "cell_type": "code",
      "source": [
        "from sklearn.manifold import TSNE\n",
        "\n",
        "# Можно применить к тем же 10 PC или к полным данным\n",
        "X_tsne = df[[f\"PC{i}\" for i in range(1, 11)]].values\n",
        "\n",
        "tsne = TSNE(n_components=2, perplexity=30, random_state=42)\n",
        "tsne_embedding = tsne.fit_transform(X_tsne)\n",
        "\n",
        "df[\"tSNE1\"] = tsne_embedding[:, 0]\n",
        "df[\"tSNE2\"] = tsne_embedding[:, 1]\n",
        "\n",
        "plt.figure(figsize=(10, 7))\n",
        "sns.scatterplot(data=df, x=\"tSNE1\", y=\"tSNE2\", hue=\"FID\", palette=\"coolwarm\", s=60)\n",
        "plt.title(\"t-SNE projection of Cattle Genotypes by Breed (FID)\")\n",
        "plt.xlabel(\"t-SNE1\")\n",
        "plt.ylabel(\"t-SNE2\")\n",
        "plt.grid(True)\n",
        "plt.tight_layout()\n",
        "plt.show()\n"
      ],
      "metadata": {
        "id": "Y-8Lx64LJHWz"
      },
      "execution_count": null,
      "outputs": []
    },
    {
      "cell_type": "markdown",
      "source": [
        "Шаг 5. Кластеризация DBSCAN на UMAP"
      ],
      "metadata": {
        "id": "LSrIelrvJLr9"
      }
    },
    {
      "cell_type": "code",
      "source": [
        "from sklearn.cluster import DBSCAN\n",
        "\n",
        "reducer = umap.UMAP(n_neighbors=15, min_dist=0.1, random_state=42)\n",
        "embedding = reducer.fit_transform(X)\n",
        "\n",
        "df[\"UMAP1\"] = embedding[:, 0]\n",
        "df[\"UMAP2\"] = embedding[:, 1]\n",
        "\n",
        "# Используем уже полученный embedding из UMAP\n",
        "X = df[[\"UMAP1\", \"UMAP2\"]].values\n",
        "\n",
        "# Настраиваем параметры DBSCAN\n",
        "dbscan = DBSCAN(eps=0.5, min_samples=5)\n",
        "clusters = dbscan.fit_predict(X)\n",
        "\n",
        "# Добавим метки кластеров в DataFrame\n",
        "df[\"DBSCAN_cluster\"] = clusters\n",
        "\n",
        "# Визуализируем\n",
        "plt.figure(figsize=(10, 7))\n",
        "sns.scatterplot(data=df, x=\"UMAP1\", y=\"UMAP2\", hue=\"DBSCAN_cluster\", palette=\"tab20\", s=60)\n",
        "plt.title(\"DBSCAN clustering on UMAP projection\")\n",
        "plt.xlabel(\"UMAP1\")\n",
        "plt.ylabel(\"UMAP2\")\n",
        "plt.legend(title=\"Cluster\", bbox_to_anchor=(1.05, 1), loc='upper left')\n",
        "plt.tight_layout()\n",
        "plt.show()\n"
      ],
      "metadata": {
        "id": "ta9oR1G5JP9P"
      },
      "execution_count": null,
      "outputs": []
    }
  ]
}